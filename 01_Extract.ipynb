# John Drake and Angel Wong
{
 "cells": [
  {
   "cell_type": "markdown",
   "metadata": {},
   "source": [
    "<div style=\"text-align: right\"> [CMSC 636] Drake Wong </div>"
   ]
  },
  {
   "cell_type": "markdown",
   "metadata": {},
   "source": [
    "# Extract Data\n",
    "#### Step 1: Import Packages"
   ]
  },
  {
   "cell_type": "code",
   "execution_count": 1,
   "metadata": {},
   "outputs": [],
   "source": [
    "import h5py\n",
    "import numpy as np\n",
    "from pathlib import Path\n",
    "import pandas as pd\n",
    "import json"
   ]
  },
  {
   "cell_type": "markdown",
   "metadata": {},
   "source": [
    "#### Step 2: Select 10% of well-represented data \n",
    "Note: Depending on the platform and study, some data may be incomplete with 0s or NaN values in the hdf5 file. The following code selects genes that are well represented in the entire dataset. It does not give preference to a gene's expression value"
   ]
  },
  {
   "cell_type": "code",
   "execution_count": 2,
   "metadata": {},
   "outputs": [
    {
     "name": "stdout",
     "output_type": "stream",
     "text": [
      "<class 'pandas.io.pytables.HDFStore'>\n",
      "File path: C:\\Research_Data\\CMSC 636 Deep Learning\\expr_data.hdf5\n",
      "/alignment_metadata             frame        (shape->[136118,5])    \n",
      "/experiment_metadata            frame        (shape->[136118,12])   \n",
      "/rpkm                           frame        (shape->[108814,20499])\n"
     ]
    }
   ],
   "source": [
    "\n",
    "file = Path(r'C:\\Research_Data\\CMSC 636 Deep Learning\\expr_data.hdf5')\n",
    "with pd.HDFStore(file, 'r') as store:\n",
    "    print(store.info())\n",
    "    rpkm = store['rpkm']\n",
    "    alignment_metadata  = store['alignment_metadata']\n",
    "    experiment_metadata = store['experiment_metadata']\n",
    "    rpkm = rpkm.fillna(0)\n",
    "    rpkm = rpkm[(rpkm == 0).sum(axis=0).sort_values(ascending=True).index]\n",
    "    rpkm = rpkm.iloc[:,0:2300]"
   ]
  },
  {
   "cell_type": "markdown",
   "metadata": {},
   "source": [
    "#### Step 3: Extract gene expression values for well-represented tissue types"
   ]
  },
  {
   "cell_type": "code",
   "execution_count": 3,
   "metadata": {},
   "outputs": [
    {
     "name": "stdout",
     "output_type": "stream",
     "text": [
      "3476\n"
     ]
    },
    {
     "name": "stderr",
     "output_type": "stream",
     "text": [
      "c:\\r_env\\lib\\site-packages\\ipykernel_launcher.py:3: UserWarning: Boolean Series key will be reindexed to match DataFrame index.\n",
      "  This is separate from the ipykernel package so we can avoid doing imports until\n"
     ]
    }
   ],
   "source": [
    "print(experiment_metadata.cell_type.str.contains(pat=\"CD4+\").sum())\n",
    "CD4 = experiment_metadata.cell_type.str.contains(pat=\"CD4+\", na=False)\n",
    "CD4 = rpkm[CD4]\n",
    "#CD4.head()\n",
    "# CD4.isnull().sum().sort_values()    # Check to make sure no NaN exist\n",
    "#(CD4 == 0).sum(axis=0).sort_values(ascending=True)     # Check to see how many missing values exist\n",
    "CD4.to_csv(f\"CD4.csv\", na_rep=\"NA\")"
   ]
  },
  {
   "cell_type": "code",
   "execution_count": 4,
   "metadata": {},
   "outputs": [
    {
     "name": "stdout",
     "output_type": "stream",
     "text": [
      "1499\n"
     ]
    },
    {
     "name": "stderr",
     "output_type": "stream",
     "text": [
      "c:\\r_env\\lib\\site-packages\\ipykernel_launcher.py:3: UserWarning: Boolean Series key will be reindexed to match DataFrame index.\n",
      "  This is separate from the ipykernel package so we can avoid doing imports until\n"
     ]
    }
   ],
   "source": [
    "print(experiment_metadata.cell_type.str.contains(pat=\"CD8\").sum())\n",
    "CD8 = experiment_metadata.cell_type.str.contains(pat=\"CD8\", na=False)\n",
    "CD8 = rpkm[CD8]\n",
    "CD8.to_csv(f\"CD8.csv\", na_rep=\"NA\")"
   ]
  },
  {
   "cell_type": "code",
   "execution_count": 5,
   "metadata": {},
   "outputs": [
    {
     "name": "stdout",
     "output_type": "stream",
     "text": [
      "1226\n"
     ]
    },
    {
     "name": "stderr",
     "output_type": "stream",
     "text": [
      "c:\\r_env\\lib\\site-packages\\ipykernel_launcher.py:3: UserWarning: Boolean Series key will be reindexed to match DataFrame index.\n",
      "  This is separate from the ipykernel package so we can avoid doing imports until\n"
     ]
    }
   ],
   "source": [
    "print(experiment_metadata.cell_type.str.contains(pat=\"Haematopoietic\").sum())\n",
    "Haematopoietic = experiment_metadata.cell_type.str.contains(pat=\"Haematopoietic\", na=False)\n",
    "Haematopoietic = rpkm[Haematopoietic]\n",
    "Haematopoietic.to_csv(f\"Haematopoietic.csv\", na_rep=\"NA\")"
   ]
  },
  {
   "cell_type": "code",
   "execution_count": 6,
   "metadata": {},
   "outputs": [
    {
     "name": "stdout",
     "output_type": "stream",
     "text": [
      "4647\n"
     ]
    },
    {
     "name": "stderr",
     "output_type": "stream",
     "text": [
      "c:\\r_env\\lib\\site-packages\\ipykernel_launcher.py:3: UserWarning: Boolean Series key will be reindexed to match DataFrame index.\n",
      "  This is separate from the ipykernel package so we can avoid doing imports until\n"
     ]
    }
   ],
   "source": [
    "print(experiment_metadata.cell_type.str.contains(pat=\"BMDC\").sum())\n",
    "BMDC = experiment_metadata.cell_type.str.contains(pat=\"BMDC\", na=False)\n",
    "BMDC = rpkm[BMDC]\n",
    "BMDC.to_csv(f\"BMDC.csv\", na_rep=\"NA\")"
   ]
  },
  {
   "cell_type": "code",
   "execution_count": 7,
   "metadata": {},
   "outputs": [
    {
     "name": "stdout",
     "output_type": "stream",
     "text": [
      "2261\n"
     ]
    },
    {
     "name": "stderr",
     "output_type": "stream",
     "text": [
      "c:\\r_env\\lib\\site-packages\\ipykernel_launcher.py:3: UserWarning: Boolean Series key will be reindexed to match DataFrame index.\n",
      "  This is separate from the ipykernel package so we can avoid doing imports until\n"
     ]
    }
   ],
   "source": [
    "print(experiment_metadata.cell_type.str.contains(pat=\"effector\").sum())\n",
    "CD4memory = experiment_metadata.cell_type.str.contains(pat=\"effector\", na=False)\n",
    "CD4memory = rpkm[CD4memory]\n",
    "CD4memory.to_csv(f\"CD4memory.csv\", na_rep=\"NA\")"
   ]
  },
  {
   "cell_type": "code",
   "execution_count": 8,
   "metadata": {},
   "outputs": [
    {
     "name": "stdout",
     "output_type": "stream",
     "text": [
      "1338\n"
     ]
    },
    {
     "name": "stderr",
     "output_type": "stream",
     "text": [
      "c:\\r_env\\lib\\site-packages\\ipykernel_launcher.py:3: UserWarning: Boolean Series key will be reindexed to match DataFrame index.\n",
      "  This is separate from the ipykernel package so we can avoid doing imports until\n"
     ]
    }
   ],
   "source": [
    "print(experiment_metadata.series.str.contains(pat=\"GSE99251\").sum())\n",
    "Olfactory = experiment_metadata.series.str.contains(pat=\"GSE99251\", na=False)\n",
    "Olfactory = rpkm[Olfactory]\n",
    "Olfactory.to_csv(f\"Olfactory.csv\", na_rep=\"NA\")"
   ]
  },
  {
   "cell_type": "code",
   "execution_count": 9,
   "metadata": {},
   "outputs": [
    {
     "name": "stdout",
     "output_type": "stream",
     "text": [
      "1503\n"
     ]
    },
    {
     "name": "stderr",
     "output_type": "stream",
     "text": [
      "c:\\r_env\\lib\\site-packages\\ipykernel_launcher.py:3: UserWarning: Boolean Series key will be reindexed to match DataFrame index.\n",
      "  This is separate from the ipykernel package so we can avoid doing imports until\n"
     ]
    }
   ],
   "source": [
    "print(experiment_metadata.series.str.contains(pat=\"GSE99235\").sum())\n",
    "Lung = experiment_metadata.series.str.contains(pat=\"GSE99235\", na=False)\n",
    "Lung = rpkm[Lung]\n",
    "Lung.to_csv(f\"Lung.csv\", na_rep=\"NA\")"
   ]
  },
  {
   "cell_type": "code",
   "execution_count": 10,
   "metadata": {},
   "outputs": [
    {
     "name": "stdout",
     "output_type": "stream",
     "text": [
      "1293\n"
     ]
    },
    {
     "name": "stderr",
     "output_type": "stream",
     "text": [
      "c:\\r_env\\lib\\site-packages\\ipykernel_launcher.py:3: UserWarning: Boolean Series key will be reindexed to match DataFrame index.\n",
      "  This is separate from the ipykernel package so we can avoid doing imports until\n"
     ]
    }
   ],
   "source": [
    "print(experiment_metadata.series.str.contains(pat=\"GSE98131\").sum())\n",
    "Mammery = experiment_metadata.series.str.contains(pat=\"GSE98131\", na=False)\n",
    "Mammery = rpkm[Mammery]\n",
    "Mammery.to_csv(f\"Mammery.csv\", na_rep=\"NA\")"
   ]
  },
  {
   "cell_type": "code",
   "execution_count": 11,
   "metadata": {},
   "outputs": [
    {
     "name": "stdout",
     "output_type": "stream",
     "text": [
      "2545\n"
     ]
    },
    {
     "name": "stderr",
     "output_type": "stream",
     "text": [
      "c:\\r_env\\lib\\site-packages\\ipykernel_launcher.py:3: UserWarning: Boolean Series key will be reindexed to match DataFrame index.\n",
      "  This is separate from the ipykernel package so we can avoid doing imports until\n"
     ]
    }
   ],
   "source": [
    "print(experiment_metadata.series.str.contains(pat=\"GSE109796\").sum())\n",
    "Brain = experiment_metadata.series.str.contains(pat=\"GSE109796\", na=False)\n",
    "Brain = rpkm[Brain]\n",
    "Brain.to_csv(f\"Brain.csv\", na_rep=\"NA\")"
   ]
  },
  {
   "cell_type": "code",
   "execution_count": 12,
   "metadata": {},
   "outputs": [
    {
     "name": "stdout",
     "output_type": "stream",
     "text": [
      "1891\n"
     ]
    },
    {
     "name": "stderr",
     "output_type": "stream",
     "text": [
      "c:\\r_env\\lib\\site-packages\\ipykernel_launcher.py:3: UserWarning: Boolean Series key will be reindexed to match DataFrame index.\n",
      "  This is separate from the ipykernel package so we can avoid doing imports until\n"
     ]
    }
   ],
   "source": [
    "print(experiment_metadata.series.str.contains(pat=\"GSE92332\").sum())\n",
    "intestinal = experiment_metadata.series.str.contains(pat=\"GSE92332\", na=False)\n",
    "intestinal = rpkm[intestinal]\n",
    "intestinal.to_csv(f\"intestinal.csv\", na_rep=\"NA\")"
   ]
  },
  {
   "cell_type": "markdown",
   "metadata": {},
   "source": [
    "#### Concatenate well-represented expression values into single table, which will be used by WGCNA"
   ]
  },
  {
   "cell_type": "code",
   "execution_count": 13,
   "metadata": {},
   "outputs": [
    {
     "name": "stdout",
     "output_type": "stream",
     "text": [
      "The concated dataframe contains 21679 samples\n"
     ]
    }
   ],
   "source": [
    "concat_df = pd.concat([CD4, CD8, Haematopoietic, BMDC, CD4memory, Olfactory, Lung, Mammery, Brain, intestinal])\n",
    "print(f\"The concated dataframe contains {concat_df.shape[0]} samples\")\n",
    "concat_df.to_csv(f\"concated_data.csv\", na_rep=\"NA\")"
   ]
  },
  {
   "cell_type": "code",
   "execution_count": 14,
   "metadata": {},
   "outputs": [
    {
     "name": "stdout",
     "output_type": "stream",
     "text": [
      "The concated dataframe contains 910 samples\n"
     ]
    }
   ],
   "source": [
    "concat_df_small = pd.concat([CD4.iloc[0:100,:], CD8.iloc[0:100,:], Haematopoietic.iloc[0:100,:], BMDC.iloc[0:100,:], CD4memory.iloc[0:100,:], Olfactory.iloc[0:100,:], Lung.iloc[0:100,:], Mammery.iloc[0:100,:], Brain.iloc[0:100,:], intestinal.iloc[0:100,:]])\n",
    "print(f\"The concated dataframe contains {concat_df_small.shape[0]} samples\")\n",
    "concat_df_small.to_csv(f\"concated_small_data.csv\", na_rep=\"NA\")"
   ]
  },
  {
   "cell_type": "code",
   "execution_count": null,
   "metadata": {},
   "outputs": [],
   "source": []
  }
 ],
 "metadata": {
  "kernelspec": {
   "display_name": "r_env",
   "language": "python",
   "name": "r_env"
  },
  "language_info": {
   "codemirror_mode": {
    "name": "ipython",
    "version": 3
   },
   "file_extension": ".py",
   "mimetype": "text/x-python",
   "name": "python",
   "nbconvert_exporter": "python",
   "pygments_lexer": "ipython3",
   "version": "3.7.3"
  }
 },
 "nbformat": 4,
 "nbformat_minor": 2
}
